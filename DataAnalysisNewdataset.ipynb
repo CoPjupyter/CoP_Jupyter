{
 "cells": [
  {
   "cell_type": "markdown",
   "metadata": {},
   "source": [
    "<p style=\"font-family: Arial; font-size:3.75em;color:purple; font-style:bold\"><br>\n",
    "Data Analysis with Python</p><br>\n",
    "\n",
    "\n",
    "This data approach student achievement in secondary education of two Portuguese schools. The data attributes include student grades, demographic, social and school related features) and it was collected by using school reports and questionnaires. The datasets is provided regarding the performance in Mathematics (mat) and modeled under binary/five-level classification and regression tasks.\n",
    "\n",
    "In this workshop, we are goning to explore relationships among attributes with **data visualizatoin** and **machine learning**."
   ]
  },
  {
   "cell_type": "markdown",
   "metadata": {},
   "source": [
    "<p style=\"font-family: Arial; font-size:1.75em;color:#2462C0; font-style:bold\">\n",
    "Descriptive statistics</p>\n",
    "<br>\n",
    "*Descriptive statistics* are brief descriptive coefficients that summarize a given data set, such as **mean**, **maximum value**, **t-test**,**chi-square test**, etc. \n",
    "\n",
    "* For continuous variables, view minimum, maximum and average values to make sure the data makes sense and detect outliers in advance\n",
    "* For binary variables, clean vlues to 0 and 1 and get the average (percentage of 1s) to make sure it makes sense\n",
    "* For categorical variables, check percentages for each category and look for sparsely used categories, misspellings, and overlap\n"
   ]
  },
  {
   "cell_type": "markdown",
   "metadata": {},
   "source": [
    "### Library import\n",
    "First of all, import the toolkits/libraries we need. With toolkits/libraries, we can handle data more effectively.\n",
    "\n",
    "<p style=\"font-family: Arial; font-size:1.55em;color:red; font-style:bold\"><br>\n",
    "select the cell with codes below, and cllick **\"Shift\"** and **\"Enter\"** simutanessly to run it.</p><br>"
   ]
  },
  {
   "cell_type": "code",
   "execution_count": 1,
   "metadata": {
    "collapsed": true
   },
   "outputs": [],
   "source": [
    "import pandas as pd\n",
    "from scipy.stats import chisquare\n",
    "from scipy.stats import chi2_contingency\n",
    "from scipy import stats\n",
    "\n",
    "# import warnings library to ignore warnings\n",
    "import warnings\n",
    "warnings.filterwarnings('ignore')"
   ]
  },
  {
   "cell_type": "markdown",
   "metadata": {},
   "source": [
    "### Load data\n",
    "load the excel dataset we like to analyze with *pd.read_excel*, and show the first 10 rows of the dataset to explore what the dataset looks like.\n",
    "\n",
    "**Key syntax: pd.read_excel('file_name', sheetname='sheetname')**"
   ]
  },
  {
   "cell_type": "code",
   "execution_count": null,
   "metadata": {
    "collapsed": true
   },
   "outputs": [],
   "source": [
    "# creat a new DataFrame 'df', and import the excel file in it\n",
    "df = pd.read_excel('student data-mat.xlsx', sheetname='Data') \n",
    "\n",
    "# print the first 10 rows of DataFrame\n",
    "df.head(10) "
   ]
  },
  {
   "cell_type": "markdown",
   "metadata": {},
   "source": [
    "### First step of exploration\n",
    "with the column name in the dataframe, we can select the whole column and analyze it with differnt methods provided by the toolkits. The basic format is *data.method(function)*, this format can be applied in most of python syntax.\n",
    "\n",
    "** Key syntax: data['*column name*'].method **"
   ]
  },
  {
   "cell_type": "code",
   "execution_count": null,
   "metadata": {
    "collapsed": true
   },
   "outputs": [],
   "source": [
    "# count the number of student from different schools\n",
    "print (df['school'].value_counts()) \n",
    "\n",
    "# minimum value in the column “G3”\n",
    "print ('minimum value:', df['G3'].min()) \n",
    "\n",
    "# maximum value in the column “G3”\n",
    "print ('maximum value:',df['G3'].max()) \n",
    "\n",
    "# standard value of the column “G3”\n",
    "print ('standard value:',df['G3'].std()) \n",
    "\n",
    "# mean of the column “G3”\n",
    "print ('mean',df['G3'].mean()) "
   ]
  },
  {
   "cell_type": "code",
   "execution_count": null,
   "metadata": {
    "collapsed": true
   },
   "outputs": [],
   "source": [
    "# we can use an all-in-one method \"describe\", to explore all column\n",
    "df.describe()"
   ]
  },
  {
   "cell_type": "code",
   "execution_count": null,
   "metadata": {
    "collapsed": true
   },
   "outputs": [],
   "source": [
    "# or we can specify one of the columns\n",
    "df['G3'].describe()"
   ]
  },
  {
   "cell_type": "markdown",
   "metadata": {},
   "source": [
    "<p style=\"font-family: Arial; font-size:1.75em;color:#2462C0; font-style:bold\">\n",
    "Data Visualization</p>\n",
    "<br>\n",
    "*Data Visualization* plays an important role in data analysis, it provides interactive, visual representations of abstract data to amplify cognition and facilitate understanding."
   ]
  },
  {
   "cell_type": "code",
   "execution_count": null,
   "metadata": {
    "collapsed": true
   },
   "outputs": [],
   "source": [
    "# use plt.function_name to call function\n",
    "import matplotlib.pyplot as plt \n",
    "\n",
    "# numpy is a fundamental package used for scientific computing\n",
    "import numpy as np "
   ]
  },
  {
   "cell_type": "markdown",
   "metadata": {},
   "source": [
    "We like to count how mamy student per school. With *groupby('key')*, we can group the dataset based on the 'key' values. In this case, samples will be grouped according to the \"school\" value."
   ]
  },
  {
   "cell_type": "code",
   "execution_count": null,
   "metadata": {
    "collapsed": true
   },
   "outputs": [],
   "source": [
    "# Count how many students per school, store results in a table called 'school'\n",
    "school = pd.DataFrame({'Count':df.groupby('school').size()}).sort('Count',ascending=False).reset_index()\n",
    "\n",
    "# Show the created table\n",
    "school"
   ]
  },
  {
   "cell_type": "code",
   "execution_count": null,
   "metadata": {
    "collapsed": true
   },
   "outputs": [],
   "source": [
    "# plot count of students per school\n",
    "school.plot(x=\"school\", y=\"Count\", kind=\"bar\", figsize = (6,4), legend=False)\n",
    "plt.ylabel('No. of student')\n",
    "plt.xlabel('school')\n",
    "plt.show()"
   ]
  },
  {
   "cell_type": "markdown",
   "metadata": {},
   "source": [
    "<p style=\"font-family: Arial; font-size:1.75em;color:#2462C0; font-style:bold\">\n",
    "Data analysis with machine learning</p>\n",
    "<br>\n",
    "**Machine learning** is a subfield of artificial intelligence that explores how machines can learn from data to analyze structures, help with decisions, and make predictions. In this section, we will try to predict the performance group of a student (group one or group two) with the attributes collected. "
   ]
  },
  {
   "cell_type": "code",
   "execution_count": null,
   "metadata": {
    "collapsed": true
   },
   "outputs": [],
   "source": [
    "# import the libraries will be used\n",
    "from sklearn.model_selection import train_test_split\n",
    "from sklearn.svm import LinearSVC\n",
    "from sklearn.metrics import accuracy_score"
   ]
  },
  {
   "cell_type": "markdown",
   "metadata": {},
   "source": [
    "### What is a predictive model?\n",
    "several concepts in predictive model:\n",
    "\n",
    "Input feature **X**: features/columns/attributes which will be used as input for prediction.\n",
    "\n",
    "Target value **y**: the value to be predicted.\n",
    "\n",
    "Predictive Model: predicting the target value **y** with given features **X** with a mathematical algorithm. In this case, we will try to predict student's category (above 15 or below 15) with current features before examination."
   ]
  },
  {
   "cell_type": "markdown",
   "metadata": {},
   "source": [
    "### Devide students into two groups\n",
    "we will create a new column \"group\" and fill the column beased on students' G3 (final grade), \"One\" means above 15, Two means below 15."
   ]
  },
  {
   "cell_type": "code",
   "execution_count": null,
   "metadata": {
    "collapsed": true
   },
   "outputs": [],
   "source": [
    "df['group'] = pd.cut(df['G3'], [-1,14,20],labels=['Two','One'],right=True).copy() \n",
    "df['group'] = df['group'].astype(str)\n",
    "df.head(5)"
   ]
  },
  {
   "cell_type": "markdown",
   "metadata": {},
   "source": [
    "### Data Slicing\n",
    "\n",
    "Slicing means selecting a part of data, from row *i* to row *j*, from column *m* to column *n*. In this case, we will use **all rows**, from **column \"school\" to column \"G2\"** as input X. And use **the new created column \"group\"** as target value y.\n",
    "\n",
    "**Key syntax: data.loc['row i':'row j', 'column m': 'column n']**"
   ]
  },
  {
   "cell_type": "code",
   "execution_count": null,
   "metadata": {
    "collapsed": true
   },
   "outputs": [],
   "source": [
    "# X represents the features for input. Here, df is the data we like to slice, no rows need to be specified because we will use all rows (samples)\n",
    "X = df.loc[:,'school':'G2'].copy()\n",
    "\n",
    "# replace strings wilth numbers which will help in calculation\n",
    "X.replace(['no','yes'],[0,1],inplace=True)\n",
    "X.replace(['GP','MS'],[0,1],inplace=True)\n",
    "X.replace(['F','M'],[0,1],inplace=True)\n",
    "X.replace(['U','R'],[0,1],inplace=True)\n",
    "X.replace(['LE3','GT3'],[0,1],inplace=True)\n",
    "X.replace(['A','T'],[0,1],inplace=True)\n",
    "X['Mjob'].replace(['other','at_home','services','health','teacher'],[1,2,3,4,5],inplace=True)\n",
    "X['Fjob'].replace(['other','at_home','services','health','teacher'],[1,2,3,4,5],inplace=True)\n",
    "X['reason'].replace(['home','reputation','course','other'],[1,2,3,4],inplace=True)\n",
    "X['guardian'].replace(['mother','father','other'],[1,2,3],inplace=True)\n",
    "\n",
    "# y represents the target value to be predicted\n",
    "y = df['group'].copy()"
   ]
  },
  {
   "cell_type": "markdown",
   "metadata": {},
   "source": [
    "### Traning set and testing set\n",
    "**Training set**: machine can \"learn\" from the training set(a subset of data), by giving the \"questions\"(features) and the correct \"answers\"(target values). Aftering training, the coeffients of algprithm will be optimized for this case.\n",
    "\n",
    "**Testing set**: we reserve a testing set(a subset which not be used in training) which is new for the learned machine, and test the performance of the learned machine in prediction by comparing the true values and the predicted values."
   ]
  },
  {
   "cell_type": "code",
   "execution_count": null,
   "metadata": {
    "collapsed": true
   },
   "outputs": [],
   "source": [
    "# split the whole dataset into training set (2/3) and testing set(1/3) randomly\n",
    "X_train, X_test, y_train, y_test = train_test_split(X, y, test_size=0.33,random_state=0)\n",
    "\n",
    "# select LinearSVC as the algorithm\n",
    "clf = LinearSVC(random_state=0)\n",
    "\n",
    "# start learning, this function will return the parameters of the selected algorithm\n",
    "clf.fit(X_train, y_train)"
   ]
  },
  {
   "cell_type": "code",
   "execution_count": null,
   "metadata": {
    "collapsed": true
   },
   "outputs": [],
   "source": [
    "# use the learned model to predict the samples in testing set, and show the top ten rows\n",
    "predictions = clf.predict(X_test)\n",
    "predictions = pd.Series(predictions, index=y_test.index)\n",
    "predictions.head(10)"
   ]
  },
  {
   "cell_type": "code",
   "execution_count": null,
   "metadata": {
    "collapsed": true
   },
   "outputs": [],
   "source": [
    "# calculate the accuracy with accuracy_score function\n",
    "accuracy_score(y_true = y_test, y_pred = predictions)"
   ]
  },
  {
   "cell_type": "markdown",
   "metadata": {
    "collapsed": true
   },
   "source": [
    "<p style=\"font-family: Arial; font-size:1.75em;color:#2462C0; font-style:bold\">\n",
    "Hands on your own dataset</p>\n",
    "\n",
    "You may want to use the tample above with your own dataset, the following session can help you to adapt the template with your own dataset. You can also use another dataset (Harvard and MIT MOOC) we provide for reference.\n",
    "\n",
    "About the dataset: Over the year from the fall of 2012 to the summer of 2013, HarvardX and MITx launched 17 courses on edX, a jointly founded platform for delivering massive open online courses (MOOCs). In that year, 43,196 registrants earned certificates of completion. Another 35,937 registrants explored half or more of course content without certification. An additional 469,702 registrants viewed less than half of the content. And 292,852 registrants never engaged with the online content. In total, there were 841,687 registrations from 597,692 unique users across the first year of HarvardX and MITx courses.\n",
    "\n",
    "The whole dataset has more than 60,000 samples, we created a subset of the first 10,000 samples and use it in the following section. Please find more datails at:\n",
    "https://papers.ssrn.com/sol3/papers.cfm?abstract_id=2381263"
   ]
  },
  {
   "cell_type": "code",
   "execution_count": null,
   "metadata": {
    "collapsed": true
   },
   "outputs": [],
   "source": [
    "# creat a new DataFrame 'df1', please replace the string with file name and sheet name\n",
    "df1 = pd.read_excel('please fill the file name here', sheetname='please fill the sheet name in the file here') \n",
    "df1.head(10)"
   ]
  },
  {
   "cell_type": "markdown",
   "metadata": {},
   "source": [
    "<button type=\"button\" class=\"btn btn-primary\" data-toggle=\"collapse\" data-target=\"#ans1\">\n",
    "Click here for solution</button>\n",
    "<div id=\"ans1\" class=\"collapse\">\n",
    "<p style=\"color:#0033cc\"><b>df1 = pd.read_excel(HMXPC.xlsx', sheetname='Sheet1') </b></p>\n",
    "The solution is for the other dataset we provide, if you are using your own dataset, please revise the file name and make sure the file and the script should be under the same folder.\n",
    "</div>"
   ]
  },
  {
   "cell_type": "markdown",
   "metadata": {},
   "source": [
    "<p style=\"font-family: Arial; font-size:1.75em;color:#2462C0; font-style:bold\">\n",
    "Descriptive statistics</p>\n",
    "<br>"
   ]
  },
  {
   "cell_type": "code",
   "execution_count": null,
   "metadata": {
    "collapsed": true
   },
   "outputs": [],
   "source": [
    "# count the number of student from different countries\n",
    "print (df1['please fill the column name here'].value_counts()) \n",
    "\n",
    "# minimum value in the column “ndays_act”\n",
    "print ('minimum value:', df1['please fill the column name here'].min()) \n",
    "\n",
    "# maximum value in the column “ndays_act”\n",
    "print ('maximum value:',df1['please fill the column name here'].max()) \n",
    "\n",
    "# standard value of the column “ndays_act”\n",
    "print ('standard value:',df1['please fill the column name here'].std()) \n"
   ]
  },
  {
   "cell_type": "markdown",
   "metadata": {},
   "source": [
    "<button type=\"button\" class=\"btn btn-primary\" data-toggle=\"collapse\" data-target=\"#ans2\">\n",
    "Click here for solution</button>\n",
    "<div id=\"ans2\" class=\"collapse\">\n",
    "<p style=\"color:#0033cc\"><b>print (df1['final_cc_cname_DI'].value_counts()) </b></p>\n",
    "<p style=\"color:#0033cc\"><b>print ('minimum value:', df1['ndays_act'].min())</b></p>\n",
    "<p style=\"color:#0033cc\"><b>print ('maximum value:', df1['ndays_act'].max())</b></p>\n",
    "<p style=\"color:#0033cc\"><b>print ('standard value:', df1['ndays_act'].std())</b></p>\n",
    "</div>"
   ]
  },
  {
   "cell_type": "markdown",
   "metadata": {},
   "source": [
    "<p style=\"font-family: Arial; font-size:1.75em;color:#2462C0; font-style:bold\">\n",
    "Data Visualization</p>\n",
    "<br>"
   ]
  },
  {
   "cell_type": "code",
   "execution_count": null,
   "metadata": {
    "collapsed": true
   },
   "outputs": [],
   "source": [
    "# Count how many students per country, store results in a table called 'country'\n",
    "country = pd.DataFrame({'Count':df1.groupby('please fill in the column name of \"country\" here').size()}).sort('Count',ascending=False).reset_index()\n",
    "\n",
    "# Show the first 5 rows of the created table\n",
    "country.head()"
   ]
  },
  {
   "cell_type": "markdown",
   "metadata": {},
   "source": [
    "<button type=\"button\" class=\"btn btn-primary\" data-toggle=\"collapse\" data-target=\"#ans3\">\n",
    "Click here for solution</button>\n",
    "<div id=\"ans3\" class=\"collapse\">\n",
    "<p style=\"color:#0033cc\"><b>education = country = pd.DataFrame({'Count' :df1.groupby('final_cc_cname_DI').size()}).sort('Count',ascending=False).reset_index() </b></p>\n",
    "</div>"
   ]
  },
  {
   "cell_type": "code",
   "execution_count": null,
   "metadata": {
    "collapsed": true
   },
   "outputs": [],
   "source": [
    "# plot the bar chart\n",
    "country.plot(x=\"please fill in the column name of \"country\" here\", y=\"Count\", kind=\"bar\", figsize = (6,4), legend=False)\n",
    "plt.ylabel('Countries')\n",
    "plt.xlabel('Frequency')\n",
    "plt.show()"
   ]
  },
  {
   "cell_type": "markdown",
   "metadata": {},
   "source": [
    "<button type=\"button\" class=\"btn btn-primary\" data-toggle=\"collapse\" data-target=\"#ans4\">\n",
    "Click here for solution</button>\n",
    "<div id=\"ans4\" class=\"collapse\">\n",
    "<p style=\"color:#0033cc\"><b>education.plot(x=\"LoE_DI\", y=\"Count\", kind=\"bar\", figsize = (6,4), legend=False) </b></p>\n",
    "</div>"
   ]
  },
  {
   "cell_type": "markdown",
   "metadata": {},
   "source": [
    "<p style=\"font-family: Arial; font-size:1.75em;color:#2462C0; font-style:bold\">\n",
    "Data analysis with machine learning</p>"
   ]
  },
  {
   "cell_type": "code",
   "execution_count": null,
   "metadata": {
    "collapsed": true
   },
   "outputs": [],
   "source": [
    "# we will use columns \"nevents\" to \"nplay_video\" to predict the \"incomplete flag\"\n",
    "X1 = df1.loc[:,'please fill the name of column1 here':'please fill the name of column2 here'].copy()\n",
    "y1 = df['please fill the name of target value here'].copy()\n",
    "\n",
    "# replace na values with 0\n",
    "\n",
    "X1.fillna(value=0, inplace=True)\n",
    "y1.fillna(value=0, inplace=True)"
   ]
  },
  {
   "cell_type": "markdown",
   "metadata": {},
   "source": [
    "<button type=\"button\" class=\"btn btn-primary\" data-toggle=\"collapse\" data-target=\"#ans5\">\n",
    "Click here for solution</button>\n",
    "<div id=\"ans5\" class=\"collapse\">\n",
    "<p style=\"color:#0033cc\"><b>X1 = df1.loc[:,'nevents':'nplay_video'].copy()\n",
    "</b></p>\n",
    "<p style=\"color:#0033cc\"><b>y1 = df1['incomplete_flag'].copy()</b></p>\n",
    "</div>"
   ]
  },
  {
   "cell_type": "code",
   "execution_count": null,
   "metadata": {
    "collapsed": true
   },
   "outputs": [],
   "source": [
    "# split the whole dataset into training set (2/3) and testing set(1/3) randomly\n",
    "X1_train, X1_test, y1_train, y1_test = train_test_split(X1, y1, test_size=0.33,random_state=0)\n",
    "\n",
    "# select LinearSVC as the algorithm\n",
    "clf1 = LinearSVC(random_state=0)\n",
    "\n",
    "# start learning, this function will return the parameters of the selected algorithm\n",
    "clf1.fit(X1_train, y1_train)"
   ]
  },
  {
   "cell_type": "code",
   "execution_count": null,
   "metadata": {
    "collapsed": true
   },
   "outputs": [],
   "source": [
    "# generate predictions\n",
    "predictions1 = clf1.predict(X1_test)\n",
    "predictions1 = pd.Series(predictions1, index=y1_test.index)\n",
    "\n",
    "# calculate the accuracy with accuracy_score function\n",
    "accuracy_score(y_true = y1_test, y_pred = predictions1)"
   ]
  }
 ],
 "metadata": {
  "anaconda-cloud": {},
  "kernelspec": {
   "display_name": "Python 3",
   "language": "python",
   "name": "python3"
  },
  "language_info": {
   "codemirror_mode": {
    "name": "ipython",
    "version": 3
   },
   "file_extension": ".py",
   "mimetype": "text/x-python",
   "name": "python",
   "nbconvert_exporter": "python",
   "pygments_lexer": "ipython3",
   "version": "3.5.3"
  }
 },
 "nbformat": 4,
 "nbformat_minor": 2
}
