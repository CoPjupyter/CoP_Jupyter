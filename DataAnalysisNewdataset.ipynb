{
 "cells": [
  {
   "cell_type": "markdown",
   "metadata": {},
   "source": [
    "<p style=\"font-family: Arial; font-size:3.75em;color:purple; font-style:bold\"><br>\n",
    "Data Analysis with Python</p><br>\n",
    "\n",
    "<p style=\"font-family: Arial; font-size:2.75em;color:#45B39D; font-style:bold\"><br>\n",
    "Agenda</p><br>\n",
    "<font size = 4>In this session, we are going to explore two datasets:</font>\n",
    "\n",
    "    1. Portuguese school dataset, all codes are prepared to run. The only thing you need to do is clicking \"Shift\" and \"Enter\" simultaneously to run the code, and learn the process of data analysis with the explanation after #.\n",
    "    \n",
    "    2. Harvard and MIT MOOC dataset/your own dataset, the template of Portuguese school dataset will be reused. You can replace the variables(e.g. file name and column name) in the program according to your need."
   ]
  },
  {
   "cell_type": "markdown",
   "metadata": {},
   "source": [
    "<p style=\"font-family: Arial; font-size:2.75em;color:#45B39D; font-style:bold\"><br>\n",
    "Part 1: Portuguese School Dataset</p><br>\n",
    "This dataset approaches student achievement in secondary education of two Portuguese schools. The data attributes include student grades, demographic, social and school related features) and it was collected via school reports and questionnaires. The datasets are provided regarding the performance in Mathematics (mat) and modeled under binary/five-level classification and regression tasks.\n",
    "\n",
    "we will have three stages to analyze the dataset:\n",
    "    1. Descriptive Statistics\n",
    "    2. Data Visualization\n",
    "    3. Machine Learning"
   ]
  },
  {
   "cell_type": "markdown",
   "metadata": {},
   "source": [
    "<p style=\"font-family: Arial; font-size:1.75em;color:#5DADE2; font-style:bold\">\n",
    "Stage 1: Descriptive Statistics</p>\n",
    "<br>\n",
    "*Descriptive statistics* are used to describe the basic features of the data in a study. They provide simple summaries about the sample and the measures."
   ]
  },
  {
   "cell_type": "markdown",
   "metadata": {},
   "source": [
    "<p style=\"font-family: Arial; font-size:1.25em;color:#B03A2E; font-style:bold\">\n",
    "Coding: click **\"Shift\"** and **\"Enter\"** simultaneously.</p>"
   ]
  },
  {
   "cell_type": "code",
   "execution_count": null,
   "metadata": {},
   "outputs": [],
   "source": [
    "# library import, import the toolkits/libraries we need.\n",
    "import pandas as pd\n",
    "from scipy.stats import chisquare\n",
    "from scipy.stats import chi2_contingency\n",
    "from scipy import stats\n",
    "import warnings\n",
    "warnings.filterwarnings('ignore')\n",
    "print(\"Libraries imported\")"
   ]
  },
  {
   "cell_type": "markdown",
   "metadata": {},
   "source": [
    "### 1.1. Load Data\n",
    "load the dataset in excel format with *pd.read_excel*, and show the first 10 rows of the dataset to explore what the dataset looks like.<br><br>\n",
    "              <b>Key syntax: pd.read_excel('file_name', sheetname='sheetname')</b>"
   ]
  },
  {
   "cell_type": "markdown",
   "metadata": {},
   "source": [
    "<button type=\"button\" class=\"btn btn-success\" data-toggle=\"collapse\" data-target=\"#info1\">\n",
    "Click here for dataset info</button>\n",
    "<div id=\"info1\" class=\"collapse\">\n",
    "<p style=\"color:#339933\"><b>Column info</b><br>\n",
    "1 school - student's school (binary: 'GP' - Gabriel Pereira or 'MS' - Mousinho da Silveira) <br>\n",
    "2 gender - student's gender (binary: 'F' - female or 'M' - male) <br>\n",
    "3 age - student's age (numeric: from 15 to 22) <br>\n",
    "4 address - student's home address type (binary: 'U' - urban or 'R' - rural) <br>\n",
    "5 famsize - family size (binary: 'LE3' - less or equal to 3 or 'GT3' - greater than 3) <br>\n",
    "6 Pstatus - parent's cohabitation status (binary: 'T' - living together or 'A' - apart) <br>\n",
    "7 Medu - mother's education (numeric: 0 - none, 1 - primary education (4th grade), 2 - “ 5th to 9th grade, 3 - “ secondary education or 4 - “ higher education) <br>\n",
    "8 Fedu - father's education (numeric: 0 - none, 1 - primary education (4th grade), 2 - “ 5th to 9th grade, 3 - “ secondary education or 4 - “ higher education) <br>\n",
    "9 Mjob - mother's job (nominal: 'teacher', 'health' care related, civil 'services' (e.g. administrative or police), 'at_home' or 'other') <br>\n",
    "10 Fjob - father's job (nominal: 'teacher', 'health' care related, civil 'services' (e.g. administrative or police), 'at_home' or 'other') <br>\n",
    "11 reason - reason to choose this school (nominal: close to 'home', school 'reputation', 'course' preference or 'other') <br>\n",
    "12 guardian - student's guardian (nominal: 'mother', 'father' or 'other') \n",
    "13 traveltime - home to school travel time (numeric: 1 - <15 min., 2 - 15 to 30 min., 3 - 30 min. to 1 hour, or 4 - >1 hour) <br>\n",
    "14 studytime - weekly study time (numeric: 1 - <2 hours, 2 - 2 to 5 hours, 3 - 5 to 10 hours, or 4 - >10 hours) <br>\n",
    "15 failures - number of past class failures (numeric: n if 1<=n<3, else 4) <br>\n",
    "16 schoolsup - extra educational support (binary: yes or no) <br>\n",
    "17 famsup - family educational support (binary: yes or no)<br> \n",
    "18 paid - extra paid classes within the course subject (Math or Portuguese) (binary: yes or no) <br>\n",
    "19 activities - extra-curricular activities (binary: yes or no) <br>\n",
    "20 nursery - attended nursery school (binary: yes or no) <br>\n",
    "21 higher - wants to take higher education (binary: yes or no)<br> \n",
    "22 internet - Internet access at home (binary: yes or no)<br> \n",
    "23 romantic - with a romantic relationship (binary: yes or no) <br>\n",
    "24 famrel - quality of family relationships (numeric: from 1 - very bad to 5 - excellent)<br> \n",
    "25 freetime - free time after school (numeric: from 1 - very low to 5 - very high) <br>\n",
    "26 goout - going out with friends (numeric: from 1 - very low to 5 - very high) <br>\n",
    "27 Dalc - workday alcohol consumption (numeric: from 1 - very low to 5 - very high) <br>\n",
    "28 Walc - weekend alcohol consumption (numeric: from 1 - very low to 5 - very high) <br>\n",
    "29 health - current health status (numeric: from 1 - very bad to 5 - very good) <br>\n",
    "30 absences - number of school absences (numeric: from 0 to 93) <br>\n",
    "31 G1 - first period grade (numeric: from 0 to 20) <br>\n",
    "31 G2 - second period grade (numeric: from 0 to 20) <br>\n",
    "32 G3 - final grade (numeric: from 0 to 20, output target)<br>\n",
    "</p>\n",
    "\n",
    "</div>"
   ]
  },
  {
   "cell_type": "markdown",
   "metadata": {},
   "source": [
    "<p style=\"font-family: Arial; font-size:1.25em;color:#B03A2E; font-style:bold\">\n",
    "Coding: click **\"Shift\"** and **\"Enter\"** simultaneously to run.</p>"
   ]
  },
  {
   "cell_type": "code",
   "execution_count": null,
   "metadata": {},
   "outputs": [],
   "source": [
    "# creat a new DataFrame 'df', and import the excel file in it\n",
    "df = pd.read_excel('student data-mat.xlsx', sheetname='Data') \n",
    "\n",
    "# print the first 10 rows of DataFrame\n",
    "df.head(10) "
   ]
  },
  {
   "cell_type": "markdown",
   "metadata": {},
   "source": [
    "### 1.2. First step of exploration\n",
    "With the column name in the dataframe, we can select the whole column and analyze it with different methods provided by the toolkits. The basic format is *data.method(function)*, this format can be applied in most of python syntax.\n",
    "\n",
    "** Key syntax: data['*column name*'].method **"
   ]
  },
  {
   "cell_type": "markdown",
   "metadata": {},
   "source": [
    "<p style=\"font-family: Arial; font-size:1.25em;color:#B03A2E; font-style:bold\">\n",
    "Coding: click **\"Shift\"** and **\"Enter\"** simultaneously to run.</p>"
   ]
  },
  {
   "cell_type": "code",
   "execution_count": null,
   "metadata": {},
   "outputs": [],
   "source": [
    "# count the number of student from different schools\n",
    "print (df['school'].value_counts()) \n",
    "\n",
    "# minimum value in the column “G3”\n",
    "print ('minimum value:', df['G3'].min()) \n",
    "\n",
    "# maximum value in the column “G3”\n",
    "print ('maximum value:',df['G3'].max()) \n",
    "\n",
    "# standard value of the column “G3”\n",
    "print ('standard value:',df['G3'].std()) \n",
    "\n",
    "# mean of the column “G3”\n",
    "print ('mean',df['G3'].mean()) "
   ]
  },
  {
   "cell_type": "code",
   "execution_count": null,
   "metadata": {},
   "outputs": [],
   "source": [
    "# we can use an all-in-one method \"describe\", to explore all columns\n",
    "df.describe()"
   ]
  },
  {
   "cell_type": "code",
   "execution_count": null,
   "metadata": {},
   "outputs": [],
   "source": [
    "# or we can specify one of the columns\n",
    "df['G3'].describe()"
   ]
  },
  {
   "cell_type": "markdown",
   "metadata": {},
   "source": [
    "<p style=\"font-family: Arial; font-size:1.75em;color:#5DADE2; font-style:bold\">\n",
    "Stage2: Data Visualization</p>\n",
    "<br>\n",
    "*Data Visualization* plays an important role in data analysis, it provides interactive, visual representations of abstract data to amplify cognition and facilitate understanding."
   ]
  },
  {
   "cell_type": "markdown",
   "metadata": {},
   "source": [
    "<p style=\"font-family: Arial; font-size:1.25em;color:#B03A2E; font-style:bold\">\n",
    "Coding: click **\"Shift\"** and **\"Enter\"** simultaneously to run.</p>"
   ]
  },
  {
   "cell_type": "code",
   "execution_count": null,
   "metadata": {
    "collapsed": true
   },
   "outputs": [],
   "source": [
    "# import libraries\n",
    "import matplotlib.pyplot as plt \n",
    "import numpy as np "
   ]
  },
  {
   "cell_type": "markdown",
   "metadata": {},
   "source": [
    "### 2.1.  How mamy student per school?\n",
    "We like to count how many student per school. With *groupby('key')*, we can group the dataset based on the 'key' values. In this case, samples will be grouped according to the \"school\" value.<br>\n",
    "** Key syntax: data.groupby('column_name') **"
   ]
  },
  {
   "cell_type": "markdown",
   "metadata": {},
   "source": [
    "<p style=\"font-family: Arial; font-size:1.25em;color:#B03A2E; font-style:bold\">\n",
    "Coding: click **\"Shift\"** and **\"Enter\"** simultaneously to run.</p>"
   ]
  },
  {
   "cell_type": "code",
   "execution_count": null,
   "metadata": {},
   "outputs": [],
   "source": [
    "# Count how many students per school, store results in a table called 'school'\n",
    "school = pd.DataFrame({'Count':df.groupby('school').size()}).sort('Count',ascending=False).reset_index()\n",
    "\n",
    "# Show the created table\n",
    "school"
   ]
  },
  {
   "cell_type": "code",
   "execution_count": null,
   "metadata": {},
   "outputs": [],
   "source": [
    "# plot the count of students per school\n",
    "school.plot(x=\"school\", y=\"Count\", kind=\"bar\", figsize = (6,4), legend=False)\n",
    "plt.ylabel('No. of student')\n",
    "plt.xlabel('school')\n",
    "plt.show()"
   ]
  },
  {
   "cell_type": "markdown",
   "metadata": {},
   "source": [
    "<p style=\"font-family: Arial; font-size:1.75em;color:#5DADE2; font-style:bold\">\n",
    "Stage3: Machine Learning</p>\n",
    "<br>\n",
    "*Machine learning* is a subfield of artificial intelligence that explores how machines can learn from data to analyze structures, help with decisions, and make predictions. In this section, we will try to predict the performance group of a student (group one or group two) with the attributes collected. "
   ]
  },
  {
   "cell_type": "markdown",
   "metadata": {},
   "source": [
    "<p style=\"font-family: Arial; font-size:1.25em;color:#B03A2E; font-style:bold\">\n",
    "Coding: click **\"Shift\"** and **\"Enter\"** simultaneously to run.</p>"
   ]
  },
  {
   "cell_type": "code",
   "execution_count": null,
   "metadata": {
    "collapsed": true
   },
   "outputs": [],
   "source": [
    "# import the libraries will be used\n",
    "from sklearn.model_selection import train_test_split\n",
    "from sklearn.svm import LinearSVC\n",
    "from sklearn.metrics import accuracy_score\n",
    "from sklearn.feature_selection import SelectFromModel"
   ]
  },
  {
   "cell_type": "markdown",
   "metadata": {},
   "source": [
    "### 3.1. What is a predictive model?\n",
    "several concepts in a predictive model:\n",
    "\n",
    "Input feature **X**: features/columns/attributes which will be used as input for prediction.\n",
    "\n",
    "Target value **y**: the value to be predicted.\n",
    "\n",
    "Predictive Model: predicting the target value **y** with given features **X** with a mathematical algorithm. In this case, we will try to predict student's category (above 15 or below 15) with current features before examination."
   ]
  },
  {
   "cell_type": "markdown",
   "metadata": {},
   "source": [
    "### 3.2. Divide students into two groups\n",
    "we will create a new column \"group\" and fill the column based on students' G3 (final grade), \"One\" represents students with final grade equals or above 15, Two represents students with final grade below 15."
   ]
  },
  {
   "cell_type": "markdown",
   "metadata": {},
   "source": [
    "<p style=\"font-family: Arial; font-size:1.25em;color:#B03A2E; font-style:bold\">\n",
    "Coding: click **\"Shift\"** and **\"Enter\"** simultaneously to run.</p>"
   ]
  },
  {
   "cell_type": "code",
   "execution_count": null,
   "metadata": {},
   "outputs": [],
   "source": [
    "df['group'] = pd.cut(df['G3'], [-1,14,20],labels=['Two','One'],right=True).copy() \n",
    "df['group'] = df['group'].astype(str)\n",
    "df.head(5)"
   ]
  },
  {
   "cell_type": "markdown",
   "metadata": {},
   "source": [
    "### 3.3. Data Slicing\n",
    "\n",
    "Slicing means selecting a part of data, from row *i* to row *j*, from column *m* to column *n*. In this case, we will use **all rows**, from **column \"school\" to column \"G2\"** as input X. And use **the new created column \"group\"** as target value y.\n",
    "\n",
    "**Key syntax: data.loc['row i':'row j', 'column m': 'column n']**"
   ]
  },
  {
   "cell_type": "markdown",
   "metadata": {},
   "source": [
    "<p style=\"font-family: Arial; font-size:1.25em;color:#B03A2E; font-style:bold\">\n",
    "Coding: click **\"Shift\"** and **\"Enter\"** simultaneously to run.</p>"
   ]
  },
  {
   "cell_type": "code",
   "execution_count": null,
   "metadata": {
    "collapsed": true
   },
   "outputs": [],
   "source": [
    "# X represents the features for input. Here, df is the dataset to be sliced, no rows need to be specified because we will use all rows (samples)\n",
    "X = df.loc[:,'school':'G2'].copy()\n",
    "\n",
    "# replace strings wilth numbers which will help machine in calculation\n",
    "X.replace(['no','yes'],[0,1],inplace=True)\n",
    "X.replace(['GP','MS'],[0,1],inplace=True)\n",
    "X.replace(['F','M'],[0,1],inplace=True)\n",
    "X.replace(['U','R'],[0,1],inplace=True)\n",
    "X.replace(['LE3','GT3'],[0,1],inplace=True)\n",
    "X.replace(['A','T'],[0,1],inplace=True)\n",
    "X['Mjob'].replace(['other','at_home','services','health','teacher'],[1,2,3,4,5],inplace=True)\n",
    "X['Fjob'].replace(['other','at_home','services','health','teacher'],[1,2,3,4,5],inplace=True)\n",
    "X['reason'].replace(['home','reputation','course','other'],[1,2,3,4],inplace=True)\n",
    "X['guardian'].replace(['mother','father','other'],[1,2,3],inplace=True)\n",
    "\n",
    "# y represents the target value to be predicted\n",
    "y = df['group'].copy()"
   ]
  },
  {
   "cell_type": "markdown",
   "metadata": {},
   "source": [
    "### 3.4. Training set and testing set\n",
    "**Training set**: machine can \"learn\" from the training set (a subset of data), by giving the \"questions\"(features) and the correct \"answers\" (target values). After training, the coefficients of algorithm will be optimized for this case.\n",
    "\n",
    "**Testing set**: we reserve a testing set (a subset which not be used in training) which is new for the learned machine, and test the performance of the learned machine in prediction by comparing the true values and the predicted values."
   ]
  },
  {
   "cell_type": "markdown",
   "metadata": {},
   "source": [
    "<p style=\"font-family: Arial; font-size:1.25em;color:#B03A2E; font-style:bold\">\n",
    "Coding: click **\"Shift\"** and **\"Enter\"** simultaneously to run.</p>"
   ]
  },
  {
   "cell_type": "code",
   "execution_count": null,
   "metadata": {},
   "outputs": [],
   "source": [
    "# split the whole dataset into a training set (2/3) and a testing set(1/3) randomly\n",
    "X_train, X_test, y_train, y_test = train_test_split(X, y, test_size=0.33,random_state=0)\n",
    "\n",
    "# select LinearSVC as the algorithm\n",
    "clf = LinearSVC(random_state=0)\n",
    "\n",
    "# start learning, this function will return the parameters of the selected algorithm\n",
    "clf.fit(X_train, y_train)"
   ]
  },
  {
   "cell_type": "code",
   "execution_count": null,
   "metadata": {},
   "outputs": [],
   "source": [
    "# use the learned model to predict the samples in the testing set, and show the top ten rows\n",
    "predictions = clf.predict(X_test)\n",
    "predictions = pd.Series(predictions, index=y_test.index)\n",
    "predictions.head(10)"
   ]
  },
  {
   "cell_type": "code",
   "execution_count": null,
   "metadata": {},
   "outputs": [],
   "source": [
    "# calculate the accuracy with accuracy_score function\n",
    "accuracy_score(y_true = y_test, y_pred = predictions)"
   ]
  },
  {
   "cell_type": "code",
   "execution_count": null,
   "metadata": {},
   "outputs": [],
   "source": [
    "# get the coefficient of each feature can help to identify the important features\n",
    "coef = pd.DataFrame(clf.coef_,index=['coef'],columns=X.columns) # get weights assigned to the features of the linearSVC model\n",
    "coef.T.sort_values('coef',ascending=False)"
   ]
  },
  {
   "cell_type": "markdown",
   "metadata": {
    "collapsed": true
   },
   "source": [
    "<p style=\"font-family: Arial; font-size:2.75em;color:#45B39D; font-style:bold\"><br>\n",
    "Part 2: Harvard MOOC Dataset/Your Own Dataset</p><br>\n",
    "In the following session, you may want to use the templates above with your own dataset. You can also use another dataset (Harvard and MIT MOOC) we provide for reference."
   ]
  },
  {
   "cell_type": "markdown",
   "metadata": {},
   "source": [
    "<button type=\"button\" class=\"btn btn-success\" data-toggle=\"collapse\" data-target=\"#info2\">\n",
    "Learn more about the dataset</button>\n",
    "<div id=\"info2\" class=\"collapse\">\n",
    "\n",
    "About the dataset: Over the year from the fall of 2012 to the summer of 2013, HarvardX and MITx launched 17 courses on edX, a jointly-founded platform for delivering massive open online courses (MOOCs). In that year, 43,196 registrants earned certificates of completion. Another 35,937 registrants explored half or more of course content without certification. An additional 469,702 registrants viewed less than half of the content. And 292,852 registrants never engaged with the online content. In total, there were 841,687 registrations from 597,692 unique users across the first year of HarvardX and MITx courses.\n",
    "The whole dataset has more than 60,000 samples, we created a subset of the first 10,000 samples and use it in the following section. Please find more datails at: https://papers.ssrn.com/sol3/papers.cfm?abstract_id=2381263\n",
    "\n",
    "</div>"
   ]
  },
  {
   "cell_type": "markdown",
   "metadata": {},
   "source": [
    "<font color = \"red\" size = 5>! IMPORTANT</font><br>\n",
    "Please read <font color =#117A65 size = 3>the hints after # </font> in each cell, and replace the string <font color =#B03A2E size = 3>\"please fill the XXX here\"</font>  with the needed value. Otherwise, the program will return error."
   ]
  },
  {
   "cell_type": "markdown",
   "metadata": {},
   "source": [
    "<button type=\"button\" class=\"btn btn-success\" data-toggle=\"collapse\" data-target=\"#info3\">\n",
    "Click here for dataset info</button>\n",
    "<div id=\"info3\" class=\"collapse\">\n",
    "<p style=\"color:#339933\"><b>Column info</b><br>\n",
    "1. course_id:\tadministrative,\tstring,\tidentifies\tinstitution\t(HarvardX\tor\tMITx),\tcourse name,\tand\tsemester,\te.g.\t“HarvardX/CB22x/2013_Spring”<br>\n",
    "2. userid_DI:\tadministrative,\tstring,\tfirst\tportion\tidentifies\tdataset\t(MHxPC13 corresponds\tto\tMITx\tHarvardX\tPerson-Course\tAY13),\tsecond\tportion\tis\ta random ID\tnumber.\tExample\tID:\t“MHxPC130442623”.<br>\n",
    "3. registered:\tadministrative,\t0/1;\tregistered\tfor\tcourse,\t=1\tfor\tall\trecords\tin\tpersoncourse.<br>\n",
    "4. viewed:\tadministrative,\t0/1;\tanyone\twho\taccessed\tthe\t‘Courseware’\ttab\t(the\thome\tof\tthe\tvideos,\tproblem\tsets,\tand\texams)\twithin\tthe\tedX\tplatform\tfor\tthe\tcourse.\tNote\tthat\tthere\texist\tcourse\tmaterials\toutside\tof\tthe\t‘Courseware’\ttab,\tsuch\tas\tthe\tSyllabus\tor\tthe\tDiscussion\tforums.<br>\n",
    "5. explored:\tadministrative,\t0/1;\tanyone\twho\taccessed\tat\tleast\thalf\tof\tthe\tchapters\tin\tthe\tcourseware (chapters\tare\tthe\thighest\tlevel\ton\tthe\t“courseware”\tmenu\thousing\tcourse\tcontent).<br>\n",
    "6. certified:\tadministrative,\t0/1;\tanyone\twho earned\ta\tcertificate.\tCertificates\tare\tbased\t on\tcourse\tgrades,\tand\tdepending\ton\tthe\tcourse,\tthe\tcutoff\tfor\ta\tcertificate\tvaries\tfrom\t50%\t- 80%.\t\n",
    "7. final_cc_cname_DI:\tmix\tof\tadministrative\t(computed\tfrom\tIP address)\tand\tuserprovided (filled\tin\tfrom\tstudent\taddress\tif\tavailable\twhen\tIP was\tindeterminate); during\tde-identification,\tsome\tcountry\tnames\twere\treplaced\twith\tthe\tcorresponding\tcontinent/region\tname.\tExamples:\t“Other\tSouth\tAsia”\tor\t“Russian\tFederation”.<br>\n",
    "8. LoE:\tuser-provided,\thighest\tlevel\tof\teducation completed.\tPossible\tvalues:\t“Less\tthan\tSecondary,”\t“Secondary,”\t“Bachelor’s,”\t“Master’s,”\tand\t“Doctorate.”<br>\n",
    "9. YoB:\tuser-provided,\tyear\tof\tbirth.\tExample:\t“1980”.<br>\n",
    "10. gender:\tuser-provided.\tPossible\tvalues:\tm\t(male),\tf\t(female)\tand\to\t(other).<br>\n",
    "11. grade:\tadministrative,\tfinal\tgrade\tin\tthe\tcourse,\tranges\tfrom\t0\tto\t1. Example:\t“0.87”.<br>\n",
    "12. start_time_DI:\tadministrative,\tdate\tof\tcourse\tregistration.\tExample:\t“12/19/12”.<br>\n",
    "13. last_event_DI:\tadministrative,\tdate\tof\tlast\tinteraction\twith\tcourse,\tblank\tif\tno\t\n",
    "interactions\tbeyond\tregistration. Example\t“11/17/13”.<br>\n",
    "14. nevents:\tadministrative,\tnumber\tof\tinteractions\twith\tthe\tcourse,\trecorded\tin\tthe\t\n",
    "tracking\tlogs;\tblank\tif\tno\tinteractions\tbeyond\tregistration. Example:\t“502”.<br>\n",
    "15. ndays_act:\tadministrative,\tnumber\tof\tunique\tdays\tstudent\tinteracted\twith\tcourse. Example:\t“16”.<br>\n",
    "16. nplay_video:\tadministrative,\tnumber\tof\tplay\tvideo\tevents within\tthe\tcourse. Example:\t“52”.<br>\n",
    "17. nchapters:\tadministrative,\tnumber\tof\tchapters\t(within\tthe\tCourseware)\twith\twhich\tthe\tstudent\tinteracted. Example:\t“12”.<br>\n",
    "18. nforum_posts:\tadministrative,\tnumber\tof\tposts\tto\tthe\tDiscussion\tForum. Example:\t“8”.<br>\n",
    "19. roles:\tadministrative,\tidentifies\tstaff\tand\tinstructors,\tbut\tblank\tas\tstaff\tand\tinstructors\twere\tremoved\tfrom\tthis\trelease.<br>\n",
    "20. inconsistent_flag:\tadministrative,\tidentifies\trecords\tthat\tare\tinternally\tinconsistent.\tDue\tto\ta\tvariety\tof\tdata\tissues,\tincluding\tmissing\ttracking\tlogs\tand\tone\tcourse\tCS50x)\twhich\thas\tvirtually no\tlogs\tbecause\tmost\tof\tthe\tcourse\tcontent\tis\thosted\toutside of\tthe\tedX\tplatform,\ta\tportion\tof\tthe\trecords\thave\tnull\tvalues\tfor\tnevents but\thave\tnon-null\tvalues\tfor\tndays_act,\tnforum_posts,\tor nchapters.\tThe\tsource\tfor\tnevents\tand\tfor\tlast_event_DI is\tthe\ttracking\tlogs,\twhereas\tndays_act, nforum_posts,\tand\tnchapters come\tfrom\ta\tdata source\tknown\tas\tthe\t“Courseware\tStudent\tModule”1.\tDue\tto\tthe\ttwo\tdifferent\tsources,\tif\tsomething\tis\twrong\twith\tthe\tTracking\tLogs2 for\ta\tclass\tor\tstudent,\tthen\trecords\tin\tPerson\tCourse\tcan\tbe\tinternally\tinconsistent\tand\thave\ta\tvalue\tof\t‘1’\tin\tthis\tcolumn.\n",
    "</p>\n",
    "\n",
    "</div>"
   ]
  },
  {
   "cell_type": "markdown",
   "metadata": {},
   "source": [
    "<p style=\"font-family: Arial; font-size:1.25em;color:#B03A2E; font-style:bold\">\n",
    "Coding: click **\"Shift\"** and **\"Enter\"** simultaneously to run.</p>"
   ]
  },
  {
   "cell_type": "code",
   "execution_count": null,
   "metadata": {
    "collapsed": true
   },
   "outputs": [],
   "source": [
    "# creat a new DataFrame 'df1', please replace the string with file name and sheet name\n",
    "df1 = pd.read_excel('please fill the file name here', sheetname='please fill the sheet name in the file here') \n",
    "df1.head(10)"
   ]
  },
  {
   "cell_type": "markdown",
   "metadata": {},
   "source": [
    "<button type=\"button\" class=\"btn btn-primary\" data-toggle=\"collapse\" data-target=\"#ans1\">\n",
    "Click here for solution</button>\n",
    "<div id=\"ans1\" class=\"collapse\">\n",
    "<p style=\"color:#0033cc\"><b>df1 = pd.read_excel(HMXPC.xlsx', sheetname='Sheet1') </b></p>\n",
    "The solution is for the Harvard dataset we provide, if you are using your own dataset, please revise the file name and make sure the file and the script should be under the same folder.\n",
    "</div>"
   ]
  },
  {
   "cell_type": "markdown",
   "metadata": {},
   "source": [
    "<p style=\"font-family: Arial; font-size:1.75em;color:#2462C0; font-style:bold\">\n",
    "Stage 1: Descriptive Statistics</p>"
   ]
  },
  {
   "cell_type": "markdown",
   "metadata": {},
   "source": [
    "<p style=\"font-family: Arial; font-size:1.25em;color:#B03A2E; font-style:bold\">\n",
    "Coding: click **\"Shift\"** and **\"Enter\"** simultaneously to run.</p>"
   ]
  },
  {
   "cell_type": "code",
   "execution_count": null,
   "metadata": {
    "collapsed": true
   },
   "outputs": [],
   "source": [
    "# count the number of students from different countries\n",
    "print (df1['please fill the column name here'].value_counts()) \n",
    "\n",
    "# minimum value in the column “ndays_act”\n",
    "print ('minimum value:', df1['please fill the column name here'].min()) \n",
    "\n",
    "# maximum value in the column “ndays_act”\n",
    "print ('maximum value:',df1['please fill the column name here'].max()) \n",
    "\n",
    "# standard value of the column “ndays_act”\n",
    "print ('standard value:',df1['please fill the column name here'].std()) \n"
   ]
  },
  {
   "cell_type": "markdown",
   "metadata": {},
   "source": [
    "<button type=\"button\" class=\"btn btn-primary\" data-toggle=\"collapse\" data-target=\"#ans2\">\n",
    "Click here for solution</button>\n",
    "<div id=\"ans2\" class=\"collapse\">\n",
    "<p style=\"color:#0033cc\"><b>print (df1['final_cc_cname_DI'].value_counts()) </b></p>\n",
    "<p style=\"color:#0033cc\"><b>print ('minimum value:', df1['ndays_act'].min())</b></p>\n",
    "<p style=\"color:#0033cc\"><b>print ('maximum value:', df1['ndays_act'].max())</b></p>\n",
    "<p style=\"color:#0033cc\"><b>print ('standard value:', df1['ndays_act'].std())</b></p>\n",
    "</div>"
   ]
  },
  {
   "cell_type": "markdown",
   "metadata": {},
   "source": [
    "<p style=\"font-family: Arial; font-size:1.75em;color:#2462C0; font-style:bold\">\n",
    "Stage 2:Data Visualization</p>"
   ]
  },
  {
   "cell_type": "markdown",
   "metadata": {},
   "source": [
    "<p style=\"font-family: Arial; font-size:1.25em;color:#B03A2E; font-style:bold\">\n",
    "Coding: click **\"Shift\"** and **\"Enter\"** simultaneously to run.</p>"
   ]
  },
  {
   "cell_type": "code",
   "execution_count": null,
   "metadata": {
    "collapsed": true
   },
   "outputs": [],
   "source": [
    "# Count how many students per country, store results in a table called 'country'\n",
    "country = pd.DataFrame({'Count':df1.groupby('please fill in the column name of \"country\" here').size()}).sort('Count',ascending=False).reset_index()\n",
    "\n",
    "# Show the first 5 rows of the created table\n",
    "country.head()"
   ]
  },
  {
   "cell_type": "markdown",
   "metadata": {},
   "source": [
    "<button type=\"button\" class=\"btn btn-primary\" data-toggle=\"collapse\" data-target=\"#ans3\">\n",
    "Click here for solution</button>\n",
    "<div id=\"ans3\" class=\"collapse\">\n",
    "<p style=\"color:#0033cc\"><b>education = country = pd.DataFrame({'Count' :df1.groupby('final_cc_cname_DI').size()}).sort('Count',ascending=False).reset_index() </b></p>\n",
    "</div>"
   ]
  },
  {
   "cell_type": "code",
   "execution_count": null,
   "metadata": {
    "collapsed": true
   },
   "outputs": [],
   "source": [
    "# plot the bar chart\n",
    "country.plot(x=\"please fill in the column name of \"country\" here\", y=\"Count\", kind=\"bar\", figsize = (6,4), legend=False)\n",
    "plt.ylabel('Countries')\n",
    "plt.xlabel('Frequency')\n",
    "plt.show()"
   ]
  },
  {
   "cell_type": "markdown",
   "metadata": {},
   "source": [
    "<button type=\"button\" class=\"btn btn-primary\" data-toggle=\"collapse\" data-target=\"#ans4\">\n",
    "Click here for solution</button>\n",
    "<div id=\"ans4\" class=\"collapse\">\n",
    "<p style=\"color:#0033cc\"><b>education.plot(x=\"LoE_DI\", y=\"Count\", kind=\"bar\", figsize = (6,4), legend=False) </b></p>\n",
    "</div>"
   ]
  },
  {
   "cell_type": "markdown",
   "metadata": {},
   "source": [
    "<p style=\"font-family: Arial; font-size:1.75em;color:#2462C0; font-style:bold\">\n",
    "Stage 3: Machine Learning</p>"
   ]
  },
  {
   "cell_type": "markdown",
   "metadata": {},
   "source": [
    "<p style=\"font-family: Arial; font-size:1.25em;color:#B03A2E; font-style:bold\">\n",
    "Coding: click **\"Shift\"** and **\"Enter\"** simultaneously to run.</p>"
   ]
  },
  {
   "cell_type": "code",
   "execution_count": null,
   "metadata": {
    "collapsed": true
   },
   "outputs": [],
   "source": [
    "# we will use columns \"nevents\" to \"nplay_video\" as input, to predict the \"certified\"\n",
    "X1 = df1.loc[:,'please fill the name of column1 here':'please fill the name of column2 here'].copy()\n",
    "y1 = df['please fill the name of target value here'].copy()\n",
    "\n",
    "# replace na values with 0\n",
    "X1.fillna(value=0, inplace=True)\n",
    "y1.fillna(value=0, inplace=True)"
   ]
  },
  {
   "cell_type": "markdown",
   "metadata": {},
   "source": [
    "<button type=\"button\" class=\"btn btn-primary\" data-toggle=\"collapse\" data-target=\"#ans5\">\n",
    "Click here for solution</button>\n",
    "<div id=\"ans5\" class=\"collapse\">\n",
    "<p style=\"color:#0033cc\"><b>X1 = df1.loc[:,'nevents':'nplay_video'].copy()\n",
    "</b></p>\n",
    "<p style=\"color:#0033cc\"><b>y1 = df1['certified'].copy()</b></p>\n",
    "</div>"
   ]
  },
  {
   "cell_type": "code",
   "execution_count": null,
   "metadata": {
    "collapsed": true
   },
   "outputs": [],
   "source": [
    "# split the whole dataset into training set (2/3) and testing set(1/3) randomly\n",
    "X1_train, X1_test, y1_train, y1_test = train_test_split(X1, y1, test_size=0.33,random_state=0)\n",
    "\n",
    "# select LinearSVC as the algorithm\n",
    "clf1 = LinearSVC(random_state=0)\n",
    "\n",
    "# start learning, this function will return the parameters of the selected algorithm\n",
    "clf1.fit(X1_train, y1_train)"
   ]
  },
  {
   "cell_type": "code",
   "execution_count": null,
   "metadata": {
    "collapsed": true
   },
   "outputs": [],
   "source": [
    "# generate predictions\n",
    "predictions1 = clf1.predict(X1_test)\n",
    "predictions1 = pd.Series(predictions1, index=y1_test.index)\n",
    "\n",
    "# calculate the accuracy with accuracy_score function\n",
    "accuracy_score(y_true = y1_test, y_pred = predictions1)"
   ]
  },
  {
   "cell_type": "code",
   "execution_count": null,
   "metadata": {
    "collapsed": true
   },
   "outputs": [],
   "source": [
    "# get the coefficient of each feature can help to identify the important features\n",
    "coef1 = pd.DataFrame(clf1.coef_,index=['coef'],columns=X1.columns) \n",
    "coef1.T\n",
    "abs(coef1).T.sort_values('coef',ascending=False)"
   ]
  }
 ],
 "metadata": {
  "anaconda-cloud": {},
  "kernelspec": {
   "display_name": "Python 3",
   "language": "python",
   "name": "python3"
  },
  "language_info": {
   "codemirror_mode": {
    "name": "ipython",
    "version": 3
   },
   "file_extension": ".py",
   "mimetype": "text/x-python",
   "name": "python",
   "nbconvert_exporter": "python",
   "pygments_lexer": "ipython3",
   "version": "3.5.3"
  }
 },
 "nbformat": 4,
 "nbformat_minor": 2
}
